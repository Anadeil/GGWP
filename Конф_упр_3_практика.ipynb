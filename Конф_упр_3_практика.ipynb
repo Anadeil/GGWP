{
  "nbformat": 4,
  "nbformat_minor": 0,
  "metadata": {
    "colab": {
      "provenance": [],
      "include_colab_link": true
    },
    "kernelspec": {
      "name": "python3",
      "display_name": "Python 3"
    },
    "language_info": {
      "name": "python"
    }
  },
  "cells": [
    {
      "cell_type": "markdown",
      "metadata": {
        "id": "view-in-github",
        "colab_type": "text"
      },
      "source": [
        "<a href=\"https://colab.research.google.com/github/Anadeil/GGWP/blob/main/%D0%9A%D0%BE%D0%BD%D1%84_%D1%83%D0%BF%D1%80_3_%D0%BF%D1%80%D0%B0%D0%BA%D1%82%D0%B8%D0%BA%D0%B0.ipynb\" target=\"_parent\"><img src=\"https://colab.research.google.com/assets/colab-badge.svg\" alt=\"Open In Colab\"/></a>"
      ]
    },
    {
      "cell_type": "markdown",
      "source": [
        "Задание 1"
      ],
      "metadata": {
        "id": "Pa_TLWi1810x"
      }
    },
    {
      "cell_type": "code",
      "execution_count": null,
      "metadata": {
        "id": "xtAd1oxZ8w70"
      },
      "outputs": [],
      "source": [
        "{\n",
        "    groups: std.map(function(i) \"ИКБО-\" + (i + 1) + \"-20\", std.range(0, 23)),\n",
        "    students: [\n",
        "      {\n",
        "        age: 19,\n",
        "        group: \"ИКБО-4-20\",\n",
        "        name: \"Иванов И.И.\"\n",
        "      },\n",
        "      {\n",
        "        age: 18,\n",
        "        group: \"ИКБО-5-20\",\n",
        "        name: \"Петров П.П.\"\n",
        "      },\n",
        "      {\n",
        "        age: 18,\n",
        "        group: \"ИКБО-5-20\",\n",
        "        name: \"Сидоров С.С.\"\n",
        "      },\n",
        "      {\n",
        "        age: 20,\n",
        "        group: \"ИКБО-6-20\",\n",
        "        name: \"Кузнецов К.К.\"\n",
        "      }\n",
        "    ],\n",
        "    subject: \"Конфигурационное управление\"\n",
        "  }\n"
      ]
    },
    {
      "cell_type": "markdown",
      "source": [
        "Задание 2"
      ],
      "metadata": {
        "id": "unEK5kHz86TA"
      }
    },
    {
      "cell_type": "code",
      "source": [
        "let Student = { age : Natural, group : Text, name : Text }\n",
        "\n",
        "let Group = Text\n",
        "\n",
        "let groupPrefix = \"ИКБО-\"\n",
        "\n",
        "let groupYear = \"-20\"\n",
        "\n",
        "let makeGroup =\n",
        "      λ(n : Natural) →\n",
        "        groupPrefix ++ Natural/show n ++ groupYear\n",
        "\n",
        "let groups =\n",
        "      [ makeGroup 1, makeGroup 2, makeGroup 3, makeGroup 4, makeGroup 5\n",
        "      , makeGroup 6, makeGroup 7, makeGroup 8, makeGroup 9, makeGroup 10\n",
        "      , makeGroup 11, makeGroup 12, makeGroup 13, makeGroup 14, makeGroup 15\n",
        "      , makeGroup 16, makeGroup 17, makeGroup 18, makeGroup 19, makeGroup 20\n",
        "      , makeGroup 21, makeGroup 22, makeGroup 23, makeGroup 24\n",
        "      ]\n",
        "\n",
        "let students =\n",
        "      [ { age = 19, group = makeGroup 4, name = \"Иванов И.И.\" }\n",
        "      , { age = 18, group = makeGroup 5, name = \"Петров П.П.\" }\n",
        "      , { age = 18, group = makeGroup 5, name = \"Сидоров С.С.\" }\n",
        "      , { age = 20, group = makeGroup 6, name = \"Кузнецов К.К.\" }\n",
        "      ]\n",
        "\n",
        "let subject = \"Конфигурационное управление\"\n",
        "\n",
        "in  { groups = groups, students = students, subject = subject }"
      ],
      "metadata": {
        "id": "ptkivSgs87Aj"
      },
      "execution_count": null,
      "outputs": []
    },
    {
      "cell_type": "code",
      "source": [],
      "metadata": {
        "id": "5xH_cNgwNQxX"
      },
      "execution_count": null,
      "outputs": []
    },
    {
      "cell_type": "markdown",
      "source": [
        "Задание 3-4-5"
      ],
      "metadata": {
        "id": "hlaLFLvE89rG"
      }
    },
    {
      "cell_type": "code",
      "source": [
        "import random\n",
        "\n",
        "\n",
        "def parse_bnf(text):\n",
        "    '''\n",
        "    Преобразовать текстовую запись БНФ в словарь.\n",
        "    '''\n",
        "    grammar = {}\n",
        "    rules = [line.split('=') for line in text.strip().split('\\n')]\n",
        "    for name, body in rules:\n",
        "        grammar[name.strip()] = [alt.split() for alt in body.split('|')]\n",
        "    return grammar\n",
        "\n",
        "\n",
        "def generate_phrase(grammar, start):\n",
        "    '''\n",
        "    Сгенерировать случайную фразу.\n",
        "    '''\n",
        "    if start in grammar:\n",
        "        seq = random.choice(grammar[start])\n",
        "        return ''.join([generate_phrase(grammar, name) for name in seq])\n",
        "    return str(start)\n",
        "\n",
        "# Задание 3\n",
        "# BNF = '''\n",
        "# E = B | B E\n",
        "# B = 0 | 1\n",
        "# '''\n",
        "\n",
        "# Задание 4\n",
        "BNF = '''\n",
        "E = P | C\n",
        "P = ( E ) | ()\n",
        "C = { E } | {}\n",
        "'''\n",
        "\n",
        "# Задание 5\n",
        "# BNF = '''\n",
        "# E = T | E \"|\" T\n",
        "# T = F | T \"&\" F\n",
        "# F = \"~\" F | \"(\" E \")\" | VAR\n",
        "# VAR = x | y | z\n",
        "# '''\n",
        "\n",
        "for i in range(10):\n",
        "    print(generate_phrase(parse_bnf(BNF), 'E'))"
      ],
      "metadata": {
        "id": "D3ji-wZB8-12"
      },
      "execution_count": null,
      "outputs": []
    }
  ]
}